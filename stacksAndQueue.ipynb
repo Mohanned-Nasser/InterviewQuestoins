{
 "cells": [
  {
   "cell_type": "code",
   "execution_count": 95,
   "metadata": {},
   "outputs": [],
   "source": [
    "class node :\n",
    "    def __init__(self, val ):\n",
    "        self.value = val \n",
    "        self.next = None\n"
   ]
  },
  {
   "cell_type": "code",
   "execution_count": 96,
   "metadata": {},
   "outputs": [],
   "source": [
    "class stack :\n",
    "    def __init__ (self ):\n",
    "        self.length = 0                                                 # notic that we do not need a tail pointer for the stack \n",
    "        self.head = None \n",
    "    def push (self, val) :                                              # push for a stack will only add the number to the start of the stal \n",
    "        newNode = node(val)\n",
    "        if (self.length == 0 ):\n",
    "            self.head = newNode \n",
    "        else: \n",
    "            newNode.next = self.head\n",
    "            self.head = newNode\n",
    "        self.length += 1 \n",
    "    def show (self) :\n",
    "        current = self.head \n",
    "        while(current):\n",
    "            print(current.value , end= \" -> \") \n",
    "            current = current.next \n",
    "        print()\n",
    "    def pop (self ): \n",
    "        \n",
    "        \n",
    "        if (self.length == 0 ): \n",
    "            print(\"the stack is empty \")\n",
    "            return \n",
    "        retValue = self.head.value\n",
    "        current = self.head.next\n",
    "        self.head.next = None\n",
    "        self.head = current\n",
    "        self.length -= 1 \n",
    "        return retValue\n",
    "        "
   ]
  },
  {
   "cell_type": "code",
   "execution_count": 113,
   "metadata": {},
   "outputs": [],
   "source": [
    "class queue () :\n",
    "    def __init__ ( self ):\n",
    "        self.length = 0 \n",
    "        self.head = None \n",
    "        self.tail = None  \n",
    "    def enqueue(self , val ):                                                      # the enqueue function on a queue will always add to the head \n",
    "        newNode = node(val)                                                        # notice that when we add to queue we will add it tail \n",
    "        if (self.length == 0 ): \n",
    "            self.head = newNode\n",
    "            self.tail = newNode \n",
    "            self.length += 1\n",
    "            return \n",
    "        else : \n",
    "            self.tail.next = newNode\n",
    "            self.tail = newNode\n",
    "            self.length += 1 \n",
    "            return\n",
    "    def show(self) : \n",
    "        current = self.head \n",
    "        while (current != None):\n",
    "            print(current.value ,end=\"-> \")\n",
    "            current = current.next \n",
    "        print()\n",
    "    def dequeue (self) : \n",
    "        if (self.length == 0 ) :\n",
    "            print(\"The queue is empty \")\n",
    "            return \n",
    "        retValue = self.head.value\n",
    "        if (self.head == self.tail):\n",
    "            self.tail = None \n",
    "        \n",
    "        self.head = self.head.next\n",
    "        self.length  -= 1 \n",
    "        return retValue\n",
    "\n"
   ]
  },
  {
   "cell_type": "code",
   "execution_count": 127,
   "metadata": {},
   "outputs": [
    {
     "name": "stdout",
     "output_type": "stream",
     "text": [
      "1-> 2-> 3-> 4-> 5-> 6-> 7-> 8-> 9-> 10-> \n",
      "10\n"
     ]
    }
   ],
   "source": [
    "q = queue()\n",
    "q.enqueue(1)\n",
    "q.enqueue(2)\n",
    "q.enqueue(3)\n",
    "q.enqueue(4)\n",
    "q.enqueue(5)\n",
    "q.enqueue(6)\n",
    "q.enqueue(7)\n",
    "q.enqueue(8)\n",
    "q.enqueue(9)\n",
    "q.enqueue(10)\n",
    "q.show()\n",
    "print(q.length)\n"
   ]
  },
  {
   "cell_type": "code",
   "execution_count": 138,
   "metadata": {},
   "outputs": [
    {
     "name": "stdout",
     "output_type": "stream",
     "text": [
      "The queue is empty \n",
      "None\n",
      "\n",
      "0\n"
     ]
    }
   ],
   "source": [
    "value = q.dequeue()\n",
    "print(value)\n",
    "q.show()\n",
    "print(q.length)"
   ]
  },
  {
   "cell_type": "code",
   "execution_count": 72,
   "metadata": {},
   "outputs": [
    {
     "name": "stdout",
     "output_type": "stream",
     "text": [
      "5 -> 4 -> 3 -> 2 -> 1 -> \n",
      "5\n"
     ]
    }
   ],
   "source": [
    "s = stack ()\n",
    "s.push(1)\n",
    "s.push(2)\n",
    "s.push(3)\n",
    "s.push(4)\n",
    "s.push(5)\n",
    "s.show()\n",
    "print(s.length)\n"
   ]
  },
  {
   "cell_type": "code",
   "execution_count": 77,
   "metadata": {},
   "outputs": [
    {
     "name": "stdout",
     "output_type": "stream",
     "text": [
      "the length is 0\n",
      "1\n",
      "\n"
     ]
    }
   ],
   "source": [
    "print(s.pop())\n",
    "s.show()"
   ]
  }
 ],
 "metadata": {
  "kernelspec": {
   "display_name": "Python 3",
   "language": "python",
   "name": "python3"
  },
  "language_info": {
   "codemirror_mode": {
    "name": "ipython",
    "version": 3
   },
   "file_extension": ".py",
   "mimetype": "text/x-python",
   "name": "python",
   "nbconvert_exporter": "python",
   "pygments_lexer": "ipython3",
   "version": "3.11.4"
  },
  "orig_nbformat": 4
 },
 "nbformat": 4,
 "nbformat_minor": 2
}
