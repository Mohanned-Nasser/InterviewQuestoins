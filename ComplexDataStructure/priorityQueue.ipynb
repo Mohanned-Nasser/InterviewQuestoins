{
 "cells": [
  {
   "cell_type": "code",
   "execution_count": 1,
   "metadata": {},
   "outputs": [],
   "source": [
    "from node import node"
   ]
  },
  {
   "cell_type": "code",
   "execution_count": 24,
   "metadata": {},
   "outputs": [],
   "source": [
    "class priorityQueue:\n",
    "    def __init__(self ):\n",
    "        self.values = []\n",
    "    def enqueue(self , val , priority) :\n",
    "        newNode = node( prio= priority , val= val )\n",
    "        self.values.append(newNode)                                                                                                # Start with appending the value to the list\n",
    "        self.bubbleUp()\n",
    "    def bubbleUp(self ):\n",
    "        idx = len(self.values) -1                                                                                              # Get the chlid index, it is the latest added Priority\n",
    "        element = self.values[idx]                                                         \n",
    "        while(idx > 0 ):\n",
    "            parentIdx = int((idx - 1 ) / 2 )                                                                                   # Get the parent index and make sure its inside the loop to update it \n",
    "            parent = self.values[parentIdx]                                                                                    \n",
    "            if(element.priority >= parent.priority ):                                                                          # Break point for the loop, if the parent is larger then the heap is sorted and good to go \n",
    "                break\n",
    "            self.values[parentIdx] = element                                                                                   # Here we swip the parent element and the child\n",
    "            self.values[idx] = parent\n",
    "            idx = parentIdx                                                                                                    # Then we update the child indx to the parent one (cuz we already swiped)\n",
    "\n",
    "    def deququ(self):\n",
    "        if(len(self.values) ==  0) :\n",
    "            print(\"The Priority Queue is empty\")\n",
    "            return\n",
    "        retValue = self.values[0]\n",
    "        length = len(self.values) - 1 \n",
    "        end = self.values.pop(length)\n",
    "        if(len(self.values) > 0) :\n",
    "            self.values[0] = end\n",
    "            self.sinkDown()\n",
    "        return retValue\n",
    "\n",
    "    def sinkDown(self ):\n",
    "        idx = 0 \n",
    "        length = len(self.values)\n",
    "        element = self.values[0]\n",
    "        while(True):\n",
    "            leftChildIdx = 2 * idx + 1 \n",
    "            righChildIdx = 2 * idx + 2 \n",
    "            swap = None \n",
    "            leftChild = None \n",
    "            rightChild = None\n",
    "            if(leftChildIdx < length):\n",
    "                leftChild = self.values[leftChildIdx]\n",
    "                if (leftChild.priority <  element.priority) :\n",
    "                    swap = leftChildIdx\n",
    "            if(righChildIdx < length ):\n",
    "                rightChild = self.values[righChildIdx]\n",
    "                if ((swap == None and rightChild.priority < element.priority ) or\n",
    "                    (swap != None and rightChild.priority < leftChild.priority)):\n",
    "                    swap = righChildIdx\n",
    "            if(swap == None ):\n",
    "                break \n",
    "            self.values[idx] =  self.values[swap]\n",
    "            self.values[swap] = element\n",
    "            idx = swap"
   ]
  },
  {
   "cell_type": "code",
   "execution_count": 25,
   "metadata": {},
   "outputs": [],
   "source": [
    "\n",
    "q = priorityQueue()\n",
    "q.enqueue(\"First\" , 10 )\n",
    "q.enqueue(\"Second\" , 4 )\n",
    "q.enqueue(\"Third\" , 5 )\n",
    "q.enqueue(\"Fourth\" , 6 )\n",
    "q.enqueue(\"Fifith\" , 8 )\n",
    "q.enqueue(\"Sixth\" , 0 )\n",
    "q.enqueue(\"Seventh\" , 1 )\n",
    "q.enqueue(\"Eighth\" , 2 )\n",
    "q.enqueue(\"Nighth\" , 7 )\n"
   ]
  },
  {
   "cell_type": "code",
   "execution_count": 26,
   "metadata": {},
   "outputs": [
    {
     "name": "stdout",
     "output_type": "stream",
     "text": [
      "0\n"
     ]
    }
   ],
   "source": [
    "print(q.deququ().priority)"
   ]
  }
 ],
 "metadata": {
  "kernelspec": {
   "display_name": "Python 3",
   "language": "python",
   "name": "python3"
  },
  "language_info": {
   "codemirror_mode": {
    "name": "ipython",
    "version": 3
   },
   "file_extension": ".py",
   "mimetype": "text/x-python",
   "name": "python",
   "nbconvert_exporter": "python",
   "pygments_lexer": "ipython3",
   "version": "3.11.4"
  },
  "orig_nbformat": 4
 },
 "nbformat": 4,
 "nbformat_minor": 2
}
