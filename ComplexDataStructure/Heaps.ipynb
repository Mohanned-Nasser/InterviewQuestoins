{
 "cells": [
  {
   "cell_type": "markdown",
   "metadata": {},
   "source": [
    "<h1>Heaps</h1>\n",
    "<h3>Heaps comes in 2 main forms Max binary heap and min Binary heaps, in this code I will only focus on Max Binary Heaps </h3>\n",
    "<h4>In the Max Binary Heap, every child is smaller than their parent, and we start by filling from the left <h4>\n",
    "<h4>Heaps can be represented in array from easily</h4>\n",
    "<h4>For any index N the left child is 2N + 1 and 2N + 2</h4>\n",
    "<h4>For any index N the parent is (N - 1) / 2  </h4>\n",
    "<h4>Haeps are useful for priority queue  </h4>"
   ]
  },
  {
   "cell_type": "code",
   "execution_count": 86,
   "metadata": {},
   "outputs": [],
   "source": [
    "class maxHeap:\n",
    "    def __init__(self ):\n",
    "        self.values = []\n",
    "    def insert(self , val) :\n",
    "        self.values.append(val)                                                                                                # Start with appending the value to the list\n",
    "        self.bubbleUp()\n",
    "    def bubbleUp(self ):\n",
    "        idx = len(self.values) -1                                                                                              # Get the chlid index, it is the latest added value\n",
    "        element = self.values[idx]                                                          \n",
    "        while(idx > 0 ):\n",
    "            parentIdx = int((idx - 1 ) / 2 )                                                                                   # Get the parent index and make sure its inside the loop to update it \n",
    "            parent = self.values[parentIdx]                                                                                    \n",
    "            if(element <= parent ):                                                                                            # Break point for the loop, if the parent is larger then the heap is sorted and good to go \n",
    "                break\n",
    "            self.values[parentIdx] = element                                                                                   # Here we swip the parent element and the child\n",
    "            self.values[idx] = parent\n",
    "            idx = parentIdx                                                                                                    # Then we update the child indx to the parent one (cuz we already swiped)\n",
    "\n",
    "    def extract(self):\n",
    "        if(len(self.values) ==  0) :\n",
    "            print(\"The Heap is empty\")\n",
    "            return\n",
    "        retValue = self.values[0]\n",
    "        length = len(self.values) - 1 \n",
    "        end = self.values.pop(length)\n",
    "        if(len(self.values) > 0) :\n",
    "            self.values[0] = end\n",
    "            self.sinkDown()\n",
    "        return retValue\n",
    "\n",
    "    def sinkDown(self ):\n",
    "        idx = 0 \n",
    "        length = len(self.values)\n",
    "        element = self.values[0]\n",
    "        while(True):\n",
    "            leftChildIdx = 2 * idx + 1 \n",
    "            righChildIdx = 2 * idx + 2 \n",
    "            swap = None \n",
    "            leftChild = None \n",
    "            rightChild = None\n",
    "            if(leftChildIdx < length):\n",
    "                leftChild = self.values[leftChildIdx]\n",
    "                if (leftChild > element) :\n",
    "                    swap = leftChildIdx\n",
    "            if(righChildIdx < length ):\n",
    "                rightChild = self.values[righChildIdx]\n",
    "                if ((swap == None and rightChild > element ) or\n",
    "                    (swap != None and rightChild > leftChild)):\n",
    "                    swap = righChildIdx\n",
    "            if(swap == None ):\n",
    "                break \n",
    "            self.values[idx] =  self.values[swap]\n",
    "            self.values[swap] = element\n",
    "            idx = swap"
   ]
  },
  {
   "cell_type": "code",
   "execution_count": 87,
   "metadata": {},
   "outputs": [],
   "source": [
    "heap = maxHeap()\n",
    "heap.insert(41)\n",
    "heap.insert(39)\n",
    "heap.insert(33)\n",
    "heap.insert(18)\n",
    "heap.insert(27)\n",
    "heap.insert(12)\n",
    "heap.insert(55)\n"
   ]
  },
  {
   "cell_type": "code",
   "execution_count": 95,
   "metadata": {},
   "outputs": [
    {
     "name": "stdout",
     "output_type": "stream",
     "text": [
      "The Heap is empty\n",
      "None\n"
     ]
    }
   ],
   "source": [
    "print(heap.extract())"
   ]
  },
  {
   "cell_type": "code",
   "execution_count": 67,
   "metadata": {},
   "outputs": [
    {
     "name": "stdout",
     "output_type": "stream",
     "text": [
      "[39, 27, 33, 18, 12]\n"
     ]
    }
   ],
   "source": [
    "print(heap.values)"
   ]
  }
 ],
 "metadata": {
  "kernelspec": {
   "display_name": "Python 3",
   "language": "python",
   "name": "python3"
  },
  "language_info": {
   "codemirror_mode": {
    "name": "ipython",
    "version": 3
   },
   "file_extension": ".py",
   "mimetype": "text/x-python",
   "name": "python",
   "nbconvert_exporter": "python",
   "pygments_lexer": "ipython3",
   "version": "3.11.4"
  },
  "orig_nbformat": 4
 },
 "nbformat": 4,
 "nbformat_minor": 2
}
