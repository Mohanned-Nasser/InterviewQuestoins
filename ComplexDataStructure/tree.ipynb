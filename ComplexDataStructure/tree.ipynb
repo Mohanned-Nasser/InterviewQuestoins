{
 "cells": [
  {
   "cell_type": "code",
   "execution_count": 18,
   "metadata": {},
   "outputs": [],
   "source": [
    "# first we will start defining the tree node \n",
    "class treeNode :\n",
    "    def __init__(self , val ):\n",
    "        self.value = val\n",
    "        self.left = None \n",
    "        self.right = None \n",
    "        self.counter = 1 \n"
   ]
  },
  {
   "cell_type": "code",
   "execution_count": 67,
   "metadata": {},
   "outputs": [],
   "source": [
    "# binary tree class, note that i added a variable depth \n",
    "from Queue import Queue  as Q  # we import our own queue class, from the file Queue.py \n",
    "class BinarySearchTree:\n",
    "    def __init__ (self):\n",
    "        self.root = None \n",
    "    \n",
    "    def insert(self , val):\n",
    "        newNode = treeNode(val)\n",
    "        if (self.root == None ):\n",
    "            self.root = newNode\n",
    "            return \n",
    "        else :\n",
    "            current = self.root\n",
    "            while(True):\n",
    "                if (val >  current.value):\n",
    "                    if (current.right == None ):\n",
    "                        current.right = newNode \n",
    "                        return \n",
    "                    else:\n",
    "                        current = current.right\n",
    "                else :\n",
    "                    if (current.value == val ):\n",
    "                        current.counter += 1 \n",
    "                    if(current.left == None ):\n",
    "                        current.left = newNode\n",
    "                        return\n",
    "                    else:\n",
    "                        current = current.left \n",
    "    def find (self , val ):\n",
    "        if (self.root == None ):\n",
    "            return False\n",
    "        current = self.root\n",
    "        while(current != None) :\n",
    "            if (current.value == val ):\n",
    "                return True \n",
    "            elif(val > current.value ):\n",
    "                current = current.right \n",
    "            else :\n",
    "                current = current.left\n",
    "        return False         \n",
    "    def breathFirst(self ):                                        # Breath first will take advatage of the queue class FIFO\n",
    "        myQueue = Q()                                              # Using queue for FIFO affect \n",
    "        visited = []                                               # normal list to hold on andreturn the nodes in order \n",
    "        if (self.root == None):\n",
    "            print(\"The tree is empty\")\n",
    "            return\n",
    "        else:\n",
    "            current = self.root\n",
    "            myQueue.enqueue(self.root)\n",
    "            while(myQueue.length != 0 ):\n",
    "                current = myQueue.dequeue()                        # we update our current node from the queue \n",
    "                visited.append(current.value)                      # than we push the current to the visited nodes list \n",
    "                if(current.left != None):\n",
    "                    myQueue.enqueue(current.left)\n",
    "                if(current.right != None):\n",
    "                    myQueue.enqueue(current.right)\n",
    "            return visited\n",
    "    def DFSPreOrder (self ) :                                              # depth first algorithm\n",
    "        visited = []                                                       #  (pre order => start with adding the root then most left then right)\n",
    "        if (self.root == None ):                                           # it works like root->left->right\n",
    "            print(\"The tree is empty \") \n",
    "            return                                              \n",
    "        current = self.root \n",
    "        def DFSHelper (  node ):\n",
    "            visited.append(node.value)\n",
    "            if (node.left != None):\n",
    "                DFSHelper(node.left)\n",
    "            if (node.right != None):\n",
    "                DFSHelper(node.right)\n",
    "        DFSHelper(current)\n",
    "        return visited\n",
    "    def DFSPostOrder(self):                                                # it works like left -> right -> root\n",
    "        visited = []    \n",
    "        if (self.root == None ):\n",
    "            print(\"The tree is empty \")\n",
    "            return\n",
    "        current = self.root\n",
    "        def DFSPostOrderHelper(node ):\n",
    "            if (node.left != None ):\n",
    "                DFSPostOrderHelper(node.left)\n",
    "            if (node.right != None):\n",
    "                DFSPostOrderHelper(node.right)\n",
    "            visited.append(node.value)\n",
    "        \n",
    "        DFSPostOrderHelper(current)\n",
    "        return visited\n",
    "    def DFSInOrder(self ):                                                # it works like left -> root -> right \n",
    "        visited = []\n",
    "        if (self.root == None):\n",
    "            print(\"The tree is empty\")\n",
    "            return\n",
    "        else:\n",
    "            current = self.root\n",
    "            def DFSInOrderHelper(node ):\n",
    "                if (node.left != None):\n",
    "                    DFSInOrderHelper(node.left)\n",
    "                visited.append(node.value)\n",
    "                if (node.right != None):\n",
    "                    DFSInOrderHelper(node.right)\n",
    "            DFSInOrderHelper(current)\n",
    "            return visited\n"
   ]
  },
  {
   "cell_type": "code",
   "execution_count": 68,
   "metadata": {},
   "outputs": [],
   "source": [
    "tree = BinarySearchTree()\n",
    "tree.insert(10)\n",
    "tree.insert(6)\n",
    "tree.insert(3)\n",
    "tree.insert(8)\n",
    "tree.insert(15)\n",
    "tree.insert(20)"
   ]
  },
  {
   "cell_type": "code",
   "execution_count": 69,
   "metadata": {},
   "outputs": [
    {
     "name": "stdout",
     "output_type": "stream",
     "text": [
      "[3, 6, 8, 10, 15, 20]\n"
     ]
    }
   ],
   "source": [
    "print(tree.DFSInOrder())"
   ]
  },
  {
   "cell_type": "code",
   "execution_count": 55,
   "metadata": {},
   "outputs": [
    {
     "name": "stdout",
     "output_type": "stream",
     "text": [
      "[3, 8, 6, 20, 15, 10]\n"
     ]
    }
   ],
   "source": [
    "print(tree.DFSPostOrder())"
   ]
  },
  {
   "cell_type": "code",
   "execution_count": 51,
   "metadata": {},
   "outputs": [
    {
     "name": "stdout",
     "output_type": "stream",
     "text": [
      "[10, 6, 3, 8, 15, 20]\n"
     ]
    }
   ],
   "source": [
    "print(tree.DFSPreOrder())"
   ]
  },
  {
   "cell_type": "code",
   "execution_count": 52,
   "metadata": {},
   "outputs": [
    {
     "name": "stdout",
     "output_type": "stream",
     "text": [
      "[10, 6, 15, 3, 8, 20]\n"
     ]
    }
   ],
   "source": [
    "print(tree.breathFirst())"
   ]
  },
  {
   "cell_type": "code",
   "execution_count": 43,
   "metadata": {},
   "outputs": [
    {
     "name": "stdout",
     "output_type": "stream",
     "text": [
      "True\n"
     ]
    }
   ],
   "source": [
    "print(tree.find(13))"
   ]
  }
 ],
 "metadata": {
  "kernelspec": {
   "display_name": "Python 3",
   "language": "python",
   "name": "python3"
  },
  "language_info": {
   "codemirror_mode": {
    "name": "ipython",
    "version": 3
   },
   "file_extension": ".py",
   "mimetype": "text/x-python",
   "name": "python",
   "nbconvert_exporter": "python",
   "pygments_lexer": "ipython3",
   "version": "3.11.4"
  },
  "orig_nbformat": 4
 },
 "nbformat": 4,
 "nbformat_minor": 2
}
