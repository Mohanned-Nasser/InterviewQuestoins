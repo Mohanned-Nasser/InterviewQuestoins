{
 "cells": [
  {
   "cell_type": "markdown",
   "metadata": {},
   "source": [
    "<h3>Graphs are punch of vertex (nodes) and connection (edges) </h3>\n",
    "<p>there are 2 main types of graphs directed and undirected</p>\n",
    "<p>the directed one is when the edges have direction</p>\n",
    "<p>weighted and unweighted graphs are 2 other types, weoghted is when the edges have weights</p>\n",
    "<p>we can store graphs in 2 ways adjacency matrix and adjacency list</p>\n",
    "<p>adjacency matrix takes more space and is slower to access all the edges , but it is faster to access a specific edge </p>\n",
    "<h3>In this course we will use focus on adjacency list</h3\n",
    ">"
   ]
  },
  {
   "cell_type": "code",
   "execution_count": 318,
   "metadata": {},
   "outputs": [],
   "source": [
    "# simple function to check if a dict has a vertex in it or not \n",
    "def checkKey(dic, key):\n",
    "    if key in dic:\n",
    "        return True\n",
    "    else:\n",
    "        return False"
   ]
  },
  {
   "cell_type": "code",
   "execution_count": 336,
   "metadata": {},
   "outputs": [],
   "source": [
    "class UndirectedGraph:\n",
    "    def __init__(self):\n",
    "        self.adjacencyList = {}\n",
    "    def addVertex(self , Name):\n",
    "        if Name in self.adjacencyList:\n",
    "            print(\"This node is already in the graph\")\n",
    "            return\n",
    "        self.adjacencyList[Name] = []\n",
    "    def addEdge(self ,vertex1 , vertex2 ): \n",
    "        if vertex1 in self.adjacencyList and vertex2 in self.adjacencyList: \n",
    "            self.adjacencyList[vertex1].append(vertex2)\n",
    "            self.adjacencyList[vertex2].append(vertex1)\n",
    "        else :\n",
    "            print(\"vertex not found\")\n",
    "    \n",
    "    def removeEdge(self, vertex1, vertex2):\n",
    "        if vertex1 in self.adjacencyList[vertex2] and vertex2 in self.adjacencyList[vertex1]:\n",
    "            self.adjacencyList[vertex1].remove(vertex2)\n",
    "            self.adjacencyList[vertex2].remove(vertex1)\n",
    "        else:\n",
    "            print(vertex1)\n",
    "            print(vertex2)\n",
    "            print(\"could not find the edge \")\n",
    "    \n",
    "    def removeVertex (self, vertex):\n",
    "        if vertex in self.adjacencyList:\n",
    "            while(len(self.adjacencyList[vertex])):\n",
    "                remo = self.adjacencyList[vertex][-1]\n",
    "                print(remo)\n",
    "                self.removeEdge(vertex , remo)\n",
    "            del self.adjacencyList[vertex]\n",
    "            \n",
    "        else :\n",
    "            print(\"the node could not be found \")\n",
    "\n"
   ]
  },
  {
   "cell_type": "code",
   "execution_count": 337,
   "metadata": {},
   "outputs": [
    {
     "name": "stdout",
     "output_type": "stream",
     "text": [
      "{'Tokyo': [], 'Dallas': [], 'Sanfrancisco': [], 'Aspen': [], 'Texas': [], 'Canada': []}\n"
     ]
    }
   ],
   "source": [
    "g = UndirectedGraph()\n",
    "g.addVertex(\"Tokyo\")\n",
    "g.addVertex(\"Dallas\")\n",
    "g.addVertex(\"Sanfrancisco\")\n",
    "g.addVertex(\"Aspen\")\n",
    "g.addVertex(\"Texas\")\n",
    "g.addVertex(\"Canada\")\n",
    "print(g.adjacencyList)"
   ]
  },
  {
   "cell_type": "code",
   "execution_count": 338,
   "metadata": {},
   "outputs": [],
   "source": [
    "g.addEdge(\"Tokyo\" , \"Aspen\")\n",
    "g.addEdge(\"Aspen\" , \"Texas\")\n",
    "g.addEdge(\"Aspen\" , \"Dallas\")\n",
    "g.addEdge(\"Aspen\" , \"Sanfrancisco\")\n",
    "g.addEdge(\"Sanfrancisco\" , \"Dallas\")\n",
    "g.addEdge(\"Dallas\" , \"Tokyo\")\n",
    "g.addEdge(\"Tokyo\" , \"Texas\")"
   ]
  },
  {
   "cell_type": "code",
   "execution_count": 339,
   "metadata": {},
   "outputs": [
    {
     "name": "stdout",
     "output_type": "stream",
     "text": [
      "{'Tokyo': ['Aspen', 'Dallas', 'Texas'], 'Dallas': ['Aspen', 'Sanfrancisco', 'Tokyo'], 'Sanfrancisco': ['Aspen', 'Dallas'], 'Aspen': ['Tokyo', 'Texas', 'Dallas', 'Sanfrancisco'], 'Texas': ['Aspen', 'Tokyo'], 'Canada': []}\n"
     ]
    }
   ],
   "source": [
    "print(g.adjacencyList)"
   ]
  },
  {
   "cell_type": "code",
   "execution_count": 340,
   "metadata": {},
   "outputs": [],
   "source": [
    "g.removeEdge(\"Aspen\" ,\"Tokyo\")"
   ]
  },
  {
   "cell_type": "code",
   "execution_count": 341,
   "metadata": {},
   "outputs": [
    {
     "name": "stdout",
     "output_type": "stream",
     "text": [
      "{'Tokyo': ['Dallas', 'Texas'], 'Dallas': ['Aspen', 'Sanfrancisco', 'Tokyo'], 'Sanfrancisco': ['Aspen', 'Dallas'], 'Aspen': ['Texas', 'Dallas', 'Sanfrancisco'], 'Texas': ['Aspen', 'Tokyo'], 'Canada': []}\n"
     ]
    }
   ],
   "source": [
    "print(g.adjacencyList)"
   ]
  },
  {
   "cell_type": "code",
   "execution_count": 342,
   "metadata": {},
   "outputs": [
    {
     "name": "stdout",
     "output_type": "stream",
     "text": [
      "Sanfrancisco\n",
      "Dallas\n",
      "Texas\n"
     ]
    }
   ],
   "source": [
    "g.removeVertex(\"Aspen\")"
   ]
  },
  {
   "cell_type": "code",
   "execution_count": 343,
   "metadata": {},
   "outputs": [
    {
     "name": "stdout",
     "output_type": "stream",
     "text": [
      "{'Tokyo': ['Dallas', 'Texas'], 'Dallas': ['Sanfrancisco', 'Tokyo'], 'Sanfrancisco': ['Dallas'], 'Texas': ['Tokyo'], 'Canada': []}\n"
     ]
    }
   ],
   "source": [
    "print(g.adjacencyList)"
   ]
  }
 ],
 "metadata": {
  "kernelspec": {
   "display_name": "Python 3",
   "language": "python",
   "name": "python3"
  },
  "language_info": {
   "codemirror_mode": {
    "name": "ipython",
    "version": 3
   },
   "file_extension": ".py",
   "mimetype": "text/x-python",
   "name": "python",
   "nbconvert_exporter": "python",
   "pygments_lexer": "ipython3",
   "version": "3.11.4"
  },
  "orig_nbformat": 4
 },
 "nbformat": 4,
 "nbformat_minor": 2
}
