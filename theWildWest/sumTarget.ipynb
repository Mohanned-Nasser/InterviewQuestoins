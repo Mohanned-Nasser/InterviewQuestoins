{
 "cells": [
  {
   "cell_type": "markdown",
   "metadata": {},
   "source": [
    "<h3>Sum of n numbers to target T <h3>\n",
    "<p>This task or issue was givien to me in interview live, the task is to define a function that will return all the numbers that sum up to a target from an array</p>\n"
   ]
  },
  {
   "cell_type": "code",
   "execution_count": 4,
   "metadata": {},
   "outputs": [],
   "source": [
    "resp= []\n",
    "def findTarget (nums , target , secondPart=[]):\n",
    "    s = 0 \n",
    "    for i in secondPart:\n",
    "        s = s + i\n",
    "    if s == target: \n",
    "        resp.append(secondPart)\n",
    "\n",
    "    if s > target :\n",
    "        return \n",
    "    for i in range(len(nums)):\n",
    "        n = nums[i]\n",
    "        left = nums [i+1:]\n",
    "        findTarget(left ,target, secondPart +[n])"
   ]
  },
  {
   "cell_type": "code",
   "execution_count": 5,
   "metadata": {},
   "outputs": [
    {
     "name": "stdout",
     "output_type": "stream",
     "text": [
      "[[1, 2, 4], [1, 2, 4], [1, 2, 2, 2], [1, 2, 4], [1, 3, 3], [1, 3, 3], [1, 3, 3], [1, 4, 2], [1, 4, 2], [1, 6], [1, 3, 3], [1, 3, 3], [1, 4, 2], [1, 4, 2], [1, 6], [1, 2, 4], [1, 3, 3], [1, 4, 2], [1, 6], [2, 3, 2], [2, 3, 2], [2, 5], [2, 3, 2], [2, 3, 2], [2, 5], [2, 2, 3], [2, 2, 3], [2, 3, 2], [2, 5], [2, 2, 3], [3, 4], [3, 4], [3, 2, 2], [3, 4], [4, 3], [4, 3], [4, 3], [5, 2], [5, 2], [7], [3, 4], [3, 2, 2], [3, 4], [4, 3], [4, 3], [5, 2], [5, 2], [2, 3, 2], [2, 5], [2, 2, 3], [3, 4], [4, 3], [5, 2], [7]]\n"
     ]
    }
   ],
   "source": [
    "findTarget([1,2,3,4,5,6,7,8,3,4,5,6,2,3,4,5,6,7,2,3], 7)\n",
    "print(resp)"
   ]
  }
 ],
 "metadata": {
  "kernelspec": {
   "display_name": "Python 3",
   "language": "python",
   "name": "python3"
  },
  "language_info": {
   "codemirror_mode": {
    "name": "ipython",
    "version": 3
   },
   "file_extension": ".py",
   "mimetype": "text/x-python",
   "name": "python",
   "nbconvert_exporter": "python",
   "pygments_lexer": "ipython3",
   "version": "3.11.4"
  },
  "orig_nbformat": 4
 },
 "nbformat": 4,
 "nbformat_minor": 2
}
