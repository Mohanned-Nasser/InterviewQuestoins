{
 "cells": [
  {
   "cell_type": "code",
   "execution_count": 75,
   "metadata": {},
   "outputs": [],
   "source": [
    "# the class node will be basic for the doubly link list \n",
    "class node :\n",
    "    def __init__(self , val):\n",
    "        self.value = val\n",
    "        self.prev = None\n",
    "        self.next = None"
   ]
  },
  {
   "cell_type": "code",
   "execution_count": 197,
   "metadata": {},
   "outputs": [],
   "source": [
    "# the class for doubly link list \n",
    "class DoublyLinkList :\n",
    "    def __init__(self ):\n",
    "        self.head = None \n",
    "        self.tail = None\n",
    "        self.length = 0 \n",
    "    # push function will add a new node to the end of the linklist\n",
    "    def push (self , newValue):\n",
    "        newNode = node(newValue)\n",
    "        if (self.head == None ):\n",
    "            self.head = newNode\n",
    "            self.tail = newNode\n",
    "        else :\n",
    "            self.tail.next = newNode\n",
    "            newNode.prev = self.tail\n",
    "            self.tail = newNode\n",
    "        self.length += 1 \n",
    "\n",
    "    # the function show will just print out all the values inside the list from head to tail\n",
    "    def show(self ) :\n",
    "        current = self.head \n",
    "        while (current ):\n",
    "            print(current.value , end= \"->\")\n",
    "            current = current.next\n",
    "        print()\n",
    "    # pop function like in the single link list or an array it i will delete and return the last itme \n",
    "    def pop (self) : \n",
    "        if (self.head == None) :\n",
    "            print(\"The list is empty!\")\n",
    "            return \n",
    "        popNode = self.tail\n",
    "        # if the list has only one item then we just hae to reset the head and tail to non\n",
    "        if (self.length == 1 ):\n",
    "            self.head = None\n",
    "            self.tail = None\n",
    "        else: \n",
    "            self.tail = popNode.prev        # we first get the tail and set it to the new tail\n",
    "            self.tail.next = None           # cut the connection between the new tail and the old one\n",
    "        self.length -= 1 \n",
    "        popNode.preivious = None        #make sure that the old tail has no connection to the link list \n",
    "        return popNode.value\n",
    "    def shift(self) :                       #the shift function will delete from the start of the list \n",
    "        if (self.head == None ):\n",
    "            print(\"The list is empty! \")\n",
    "            return \n",
    "        shiftedNode = self.head \n",
    "        if (self.length == 1 ):\n",
    "            self.head = None\n",
    "            self.tail = None\n",
    "        else : \n",
    "            self.head = self.head.next\n",
    "            self.head.prev = None\n",
    "        shiftedNode.next = None\n",
    "        self.length -= 1 \n",
    "        return shiftedNode.value\n",
    "    def unshift(self , val) :                                 # the unshift function will add a new value to the start of the list \n",
    "        newNode = node(val)\n",
    "        if (self.length == 0):\n",
    "            self.head = newNode\n",
    "            self.tail = newNode \n",
    "            self.length += 1 \n",
    "            return\n",
    "        self.head.prev = newNode \n",
    "        newNode.next = self.head\n",
    "        self.head = newNode\n",
    "        self.length += 1 \n",
    "        return\n",
    "    def get (self, index ):                                   # the get function will return the value of the node in the provided index \n",
    "        if (index >= self.length or index < 0 ):\n",
    "            print(\"The provided index is wrong\")\n",
    "            return \n",
    "        else: \n",
    "            current = self.head\n",
    "            for i in range (index ):\n",
    "                current = current.next \n",
    "            return current.value \n",
    "    def sett(self , val , index ):                          # the function sett will take an index and value and sett the value for the specify node \n",
    "        current = self.head\n",
    "        if (index < 0 or index >= self.length):\n",
    "            print(\"The index is out of range\")\n",
    "            return\n",
    "        for i in range (index):\n",
    "            current = current.next \n",
    "        current.value = val\n",
    "    def insert(self , val , index ):                        # insert will create new node and put it in the specified index provided \n",
    "        newNode = node(val)\n",
    "        half = int(self.length / 2) \n",
    "        if (index < 0 or index > self.length):              # check for valid index\n",
    "            print(\"The index is out of range\")\n",
    "            return\n",
    "        elif (index == 0 ):                                 # use unshift function when we want to add to the start of list\n",
    "            self.unshift(val)\n",
    "            return\n",
    "        elif (index == self.length) : \n",
    "            self.push(val)                                  # use push when we want to add to start of the list \n",
    "            return\n",
    "        elif (index > half ):                               # start from tail if the index is larger the len / 2 \n",
    "            current = self.tail \n",
    "            nextNode = current\n",
    "            for i in range(self.length - index ) :          # keep track of the next node so we can do the prev pointer correctly \n",
    "                nextNode = current.next\n",
    "                current = current.prev \n",
    "            newNode.next = current.next \n",
    "            newNode.prev = current\n",
    "            nextNode.preivious = newNode\n",
    "            current.next = newNode    \n",
    "            return\n",
    "        else:                                               # if the index is smaller than half of the length then start from head \n",
    "            current = self.head \n",
    "            prevNode = current\n",
    "            for i in range (index -1):                      # keep track of the preiv node so we can make the doubly connection right \n",
    "                prevNode = current.prev\n",
    "                current = current.next \n",
    "            newNode.next = current.next\n",
    "            newNode.prev = current\n",
    "            prevNode.prev = newNode\n",
    "            current.next = newNode\n",
    "            return\n",
    "    def remove (self , index ):                             # remove function will take in the index and remove the node in that index, and retrun its value \n",
    "        if (index < 0 or index >= self.length):              # check for valid index\n",
    "            print(\"The index is out of range\")\n",
    "            return\n",
    "        half = int(self.length / 2 )\n",
    "        if (index == 0 ):\n",
    "            ret = self.shift()\n",
    "            self.length -=1\n",
    "            return ret \n",
    "        elif (index == self.length):\n",
    "            print(\"The index is out of range\")\n",
    "        \n",
    "        elif (index == self.length -1):\n",
    "            ret = self.pop()\n",
    "            self.length -=1\n",
    "            return ret\n",
    "        elif (index > half ): \n",
    "            print(\"first elif\")\n",
    "            current = self.tail \n",
    "            prevNode = current \n",
    "            nextNode = current \n",
    "            for i in range (index - self.length - 1 ): \n",
    "                current = current.prev\n",
    "                prevNode = current.prev \n",
    "                nextNode = current.next \n",
    "                 \n",
    "            prevNode.next = current.next\n",
    "            nextNode.prev = prevNode\n",
    "            current.next = None\n",
    "            current.prev = None\n",
    "            self.length -=1\n",
    "            return current.value\n",
    "        elif (index <= half ): \n",
    "            print(\"second elfi\")\n",
    "            current = self.head \n",
    "            prevNode = current \n",
    "            nextNode = current \n",
    "            for i in range (index  ) :\n",
    "                current = current.next \n",
    "                prevNode = current.prev\n",
    "                nextNode = current.next \n",
    "                \n",
    "            prevNode.next = current.next\n",
    "            nextNode.prev = prevNode \n",
    "            current.next = None\n",
    "            current.prev = None\n",
    "            self.length -=1\n",
    "            return current.value\n",
    "            \n",
    "\n",
    "\n",
    "        "
   ]
  },
  {
   "cell_type": "code",
   "execution_count": 198,
   "metadata": {},
   "outputs": [
    {
     "name": "stdout",
     "output_type": "stream",
     "text": [
      "1->2->3->4->5->6->7->8->9->10->11->12->\n",
      "12\n"
     ]
    }
   ],
   "source": [
    "linkList = DoublyLinkList()\n",
    "linkList.push(1)\n",
    "linkList.push(2)\n",
    "linkList.push(3)\n",
    "linkList.push(4)\n",
    "linkList.push(5)\n",
    "linkList.push(6)\n",
    "linkList.push(7)\n",
    "linkList.push(8)\n",
    "linkList.push(9)\n",
    "linkList.push(10)\n",
    "linkList.push(11)\n",
    "linkList.push(12)\n",
    "linkList.show()\n",
    "print(linkList.length)\n"
   ]
  },
  {
   "cell_type": "code",
   "execution_count": 199,
   "metadata": {},
   "outputs": [
    {
     "name": "stdout",
     "output_type": "stream",
     "text": [
      "second elfi\n",
      "3\n",
      "1->2->4->5->6->7->8->9->10->11->12->\n",
      "11\n"
     ]
    }
   ],
   "source": [
    "test = linkList.remove(2)\n",
    "print(test)\n",
    "linkList.show()\n",
    "print(linkList.length)"
   ]
  },
  {
   "cell_type": "code",
   "execution_count": 153,
   "metadata": {},
   "outputs": [
    {
     "name": "stdout",
     "output_type": "stream",
     "text": [
      "second else\n",
      "1->2->3->4->1125->5->6->7->8->9->10->11->12->\n",
      "12\n"
     ]
    }
   ],
   "source": [
    "linkList.insert(index= 4 , val= 1125)\n",
    "linkList.show()\n",
    "print(linkList.length)"
   ]
  },
  {
   "cell_type": "code",
   "execution_count": 128,
   "metadata": {},
   "outputs": [
    {
     "name": "stdout",
     "output_type": "stream",
     "text": [
      "The index is out of range\n",
      "1->2->3->4->5->6->\n",
      "6\n"
     ]
    }
   ],
   "source": [
    "linkList.sett(index= 6, val= 9)\n",
    "linkList.show()\n",
    "print(linkList.length)"
   ]
  },
  {
   "cell_type": "code",
   "execution_count": 113,
   "metadata": {},
   "outputs": [
    {
     "name": "stdout",
     "output_type": "stream",
     "text": [
      "The provided index is wrong\n",
      "None\n",
      "1->2->3->4->5->6->\n",
      "6\n"
     ]
    }
   ],
   "source": [
    "returnedValue = linkList.get(6)\n",
    "print(returnedValue)\n",
    "linkList.show()\n",
    "print(linkList.length)"
   ]
  },
  {
   "cell_type": "code",
   "execution_count": 86,
   "metadata": {},
   "outputs": [
    {
     "name": "stdout",
     "output_type": "stream",
     "text": [
      "88->88->88->88->88->88->88->88->1->2->3->4->5->\n",
      "13\n"
     ]
    }
   ],
   "source": [
    "linkList.unshift(88)\n",
    "linkList.show()\n",
    "print(linkList.length)"
   ]
  },
  {
   "cell_type": "code",
   "execution_count": 100,
   "metadata": {},
   "outputs": [
    {
     "name": "stdout",
     "output_type": "stream",
     "text": [
      "The list is empty! \n",
      "None\n",
      "\n",
      "0\n"
     ]
    }
   ],
   "source": [
    "shiftedValue = linkList.shift()\n",
    "print(shiftedValue)\n",
    "linkList.show()\n",
    "print(linkList.length)"
   ]
  },
  {
   "cell_type": "code",
   "execution_count": 40,
   "metadata": {},
   "outputs": [
    {
     "name": "stdout",
     "output_type": "stream",
     "text": [
      "The list is empty!\n",
      "None\n"
     ]
    }
   ],
   "source": [
    "popedValue = linkList.pop()\n",
    "print(popedValue)\n",
    "linkList.show()"
   ]
  }
 ],
 "metadata": {
  "kernelspec": {
   "display_name": "Python 3",
   "language": "python",
   "name": "python3"
  },
  "language_info": {
   "codemirror_mode": {
    "name": "ipython",
    "version": 3
   },
   "file_extension": ".py",
   "mimetype": "text/x-python",
   "name": "python",
   "nbconvert_exporter": "python",
   "pygments_lexer": "ipython3",
   "version": "3.11.4"
  },
  "orig_nbformat": 4
 },
 "nbformat": 4,
 "nbformat_minor": 2
}
