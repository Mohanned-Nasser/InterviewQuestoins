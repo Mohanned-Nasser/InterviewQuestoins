{
 "cells": [
  {
   "cell_type": "code",
   "execution_count": 89,
   "metadata": {},
   "outputs": [],
   "source": [
    "# start by defing a node class\n",
    "class node :\n",
    "    def __init__(self, val ):\n",
    "        self.val = val \n",
    "        self.next = None\n"
   ]
  },
  {
   "cell_type": "code",
   "execution_count": 90,
   "metadata": {},
   "outputs": [
    {
     "name": "stdout",
     "output_type": "stream",
     "text": [
      "hi\n"
     ]
    }
   ],
   "source": [
    "#this is how it looks like if we do not use a list and only use nodes\n",
    "first = node(\"hi\")\n",
    "first.next = node(\"there\")\n",
    "first.next.next = node(\"mon\")\n",
    "print(first.val)"
   ]
  },
  {
   "cell_type": "code",
   "execution_count": 409,
   "metadata": {},
   "outputs": [],
   "source": [
    "# now we will define a link list \n",
    "class SingleLinkedList:\n",
    "\n",
    "    def __init__ (self):\n",
    "        self.length = 0 \n",
    "        self.head = None\n",
    "        self.tail = None\n",
    "    # the function show is to print out all the linked list \n",
    "    def show(self ):\n",
    "        temp = self.head\n",
    "        if (temp != None):\n",
    "            while (temp != None):\n",
    "                print(temp.val , end=\" -> \")\n",
    "                temp = temp.next\n",
    "\n",
    "    #the pop function will return the last value in the linked list and then set the tail to the previous node\n",
    "    def pop (self):\n",
    "        temp = self.head\n",
    "        newTail = temp\n",
    "        #if the linked list is empty\n",
    "        if (self.head == None):\n",
    "            print(\"the list is empty\")\n",
    "            return\n",
    "        #if the linked list has only one value\n",
    "        elif (self.tail == self.head):\n",
    "            retValue = self.head.val \n",
    "            self.head = None\n",
    "            self.tail = None\n",
    "            self.length -=1 \n",
    "            return retValue\n",
    "        #travel through the linked list and get the tail and the prevous node to the tail\n",
    "        while (temp.next != None):\n",
    "            newTail = temp\n",
    "            temp = temp.next\n",
    "        retValue = temp.val\n",
    "        self.tail = newTail\n",
    "        newTail.next = None\n",
    "        self.length -=1\n",
    "        return retValue\n",
    "\n",
    "    # push function will add to the linked list at the end\n",
    "    def push(self , newValue ):\n",
    "        # create a new node with the new value \n",
    "        newNode = node(newValue)\n",
    "        # if the link list is empty \n",
    "        if(self.length == 0 ):\n",
    "            self.head = newNode\n",
    "            self.tail = newNode\n",
    "            self.length +=1 \n",
    "        else :\n",
    "            self.tail.next = newNode\n",
    "            self.tail = newNode\n",
    "            self.tail.next = None\n",
    "            self.length += 1\n",
    "    # shift functoin will return the head value and then assigning a new head (the next node)\n",
    "    def shift(self):\n",
    "        current = self.head\n",
    "        if (self.head == None):\n",
    "            print(\"the list is empty \")\n",
    "            return \n",
    "        elif(self.head == self.tail):\n",
    "            retValue = current.val \n",
    "            self.head = None\n",
    "            self.tail = None\n",
    "            self.length -=1 \n",
    "        else:\n",
    "            retValue = current.val \n",
    "            self.head = current.next \n",
    "            self.length -=1 \n",
    "            return retValue\n",
    "    # unshift function will add a new node to the start of the linked list\n",
    "    def unshift(self , newVal):\n",
    "        newNode = node(newVal)\n",
    "        current = self.head \n",
    "        if (self.length == 0 ):\n",
    "            self.haed = newNode \n",
    "            self.tail = newNode \n",
    "            self.length += 1 \n",
    "        else :\n",
    "            newNode.next = current\n",
    "            self.head = newNode\n",
    "            self.length +=1 \n",
    "    # the get function will accept one number , and retrun the value that the index correspond\n",
    "    def get (self , index):\n",
    "        if i <0 : \n",
    "            print(\"the idnex can not be negative number \")\n",
    "            return \n",
    "        elif (i > self.length -1 ):\n",
    "            print(\"the index provided is out of range for the list\")\n",
    "            return\n",
    "        else :\n",
    "            current = self.head \n",
    "            for j in range ( index ):\n",
    "                current = current.next \n",
    "            return current.val\n",
    "    # the function set will accepts 2 variables , the variable  value will be the new value we want to add, and the next variable will be the position \n",
    "    # works like update \n",
    "    def set (self , index , value):\n",
    "        if index <0 : \n",
    "            print(\"the idnex can not be negative number \")\n",
    "            return \n",
    "        elif (index > self.length -1 ):\n",
    "            print(\"the index provided is out of range for the list\")\n",
    "            return\n",
    "        \n",
    "        else : \n",
    "            current = self.head\n",
    "            for i in range( index):\n",
    "                current = current.next \n",
    "            current.val = value\n",
    "    # insert is for inserting a new node  but not the start or the end of the list but in specific index \n",
    "    def insert (self , newValue , index ):\n",
    "        if index <0 : \n",
    "            print(\"the idnex can not be negative number \")\n",
    "            return \n",
    "        elif (index > self.length  ):\n",
    "            print(\"the index provided is out of range for the list\")\n",
    "        elif(index == 0 ):\n",
    "            self.unshift(newValue)\n",
    "            return \n",
    "        elif (index == self.length):\n",
    "            self.push(newValue)\n",
    "        else :\n",
    "            current = self.head\n",
    "            previous = current \n",
    "            for i in range(index):\n",
    "                previous = current\n",
    "                current = current.next\n",
    "            newNode = node(newValue)\n",
    "            previous.next = newNode\n",
    "            newNode.next = current\n",
    "            self.length += 1 \n",
    "    # remove function takes the index of the node that we want to delete \n",
    "    def remove(self , index):\n",
    "        if index <0 : \n",
    "            print(\"the idnex can not be negative number \")\n",
    "            return \n",
    "        elif (index > self.length -1 ):\n",
    "            print(\"the index provided is out of range for the list\")\n",
    "            return\n",
    "        elif (index == 0 ):\n",
    "            self.shift()\n",
    "        elif (index == self.length):\n",
    "            self.pop()\n",
    "        else:\n",
    "            current = self.head\n",
    "            previous = current\n",
    "            for i in range(index):\n",
    "                previous = current \n",
    "                current = current.next  \n",
    "                self.length\n",
    "            previous.next = current.next \n",
    "            return current.val\n",
    "    #this function will reverse the linked list with out making a copy\n",
    "    def reverse (self ):\n",
    "        # we will need to keep track of 3 nodes here : one the current two the previous  three the next node \n",
    "        h = self.head \n",
    "        self.head = self.tail\n",
    "        self.tail = h\n",
    "        preivious = None\n",
    "        n = None\n",
    "        for i in range(self.length):\n",
    "            n = h.next \n",
    "            h.next = preivious\n",
    "            preivious = h\n",
    "            h = n \n",
    "\n",
    "\n",
    "        \n"
   ]
  },
  {
   "cell_type": "code",
   "execution_count": 410,
   "metadata": {},
   "outputs": [
    {
     "name": "stdout",
     "output_type": "stream",
     "text": [
      "harly -> Miamy -> qwer -> sdf -> zxcv -> hgj -> 6\n"
     ]
    }
   ],
   "source": [
    "singleList = SingleLinkedList()\n",
    "singleList.push(\"harly\")\n",
    "singleList.push(\"Miamy\")\n",
    "singleList.push(\"qwer\")\n",
    "singleList.push(\"sdf\")\n",
    "singleList.push(\"zxcv\")\n",
    "singleList.push(\"hgj\")\n",
    "singleList.show()\n",
    "print(singleList.length)\n",
    "\n"
   ]
  },
  {
   "cell_type": "code",
   "execution_count": 411,
   "metadata": {},
   "outputs": [
    {
     "name": "stdout",
     "output_type": "stream",
     "text": [
      "hgj -> zxcv -> sdf -> qwer -> Miamy -> harly -> "
     ]
    }
   ],
   "source": [
    "singleList.reverse()\n",
    "singleList.show()"
   ]
  },
  {
   "cell_type": "code",
   "execution_count": 408,
   "metadata": {},
   "outputs": [
    {
     "name": "stdout",
     "output_type": "stream",
     "text": [
      "qwer -> zxcv -> hgj -> 4\n"
     ]
    }
   ],
   "source": [
    "s = singleList.remove(index= 1)\n",
    "singleList.show()\n",
    "print(singleList.length)\n"
   ]
  },
  {
   "cell_type": "code",
   "execution_count": 403,
   "metadata": {},
   "outputs": [
    {
     "name": "stdout",
     "output_type": "stream",
     "text": [
      "4\n"
     ]
    }
   ],
   "source": [
    "print(singleList.length)"
   ]
  },
  {
   "cell_type": "code",
   "execution_count": 391,
   "metadata": {},
   "outputs": [
    {
     "name": "stdout",
     "output_type": "stream",
     "text": [
      "harly -> Miamy -> qwer -> sdf -> zxcv -> hgj -> 100 -> "
     ]
    }
   ],
   "source": [
    "singleList.insert(index= 6, newValue=\"100\" )\n",
    "singleList.show()"
   ]
  },
  {
   "cell_type": "code",
   "execution_count": 346,
   "metadata": {},
   "outputs": [
    {
     "name": "stdout",
     "output_type": "stream",
     "text": [
      "100 -> Miamy -> qwer -> sdf -> zxcv -> 100 -> "
     ]
    }
   ],
   "source": [
    "singleList.set(index= 5, value=\"100\")\n",
    "singleList.show()"
   ]
  },
  {
   "cell_type": "code",
   "execution_count": 340,
   "metadata": {},
   "outputs": [
    {
     "name": "stdout",
     "output_type": "stream",
     "text": [
      "the idnex can not be negative number \n",
      "None\n"
     ]
    }
   ],
   "source": [
    "test = singleList.get(-1)\n",
    "print(test)"
   ]
  },
  {
   "cell_type": "code",
   "execution_count": 324,
   "metadata": {},
   "outputs": [
    {
     "name": "stdout",
     "output_type": "stream",
     "text": [
      "hgj\n",
      "harly -> Miamy -> qwer -> sdf -> zxcv -> 5\n"
     ]
    }
   ],
   "source": [
    "temp = singleList.pop()\n",
    "print(temp)\n",
    "singleList.show()\n",
    "print(singleList.length)"
   ]
  },
  {
   "cell_type": "code",
   "execution_count": 325,
   "metadata": {},
   "outputs": [
    {
     "name": "stdout",
     "output_type": "stream",
     "text": [
      "harly\n",
      "Miamy -> qwer -> sdf -> zxcv -> 4\n"
     ]
    }
   ],
   "source": [
    "temp = singleList.shift()\n",
    "print(temp)\n",
    "singleList.show()\n",
    "print(singleList.length)"
   ]
  },
  {
   "cell_type": "code",
   "execution_count": 326,
   "metadata": {},
   "outputs": [
    {
     "name": "stdout",
     "output_type": "stream",
     "text": [
      "testing unshift -> Miamy -> qwer -> sdf -> zxcv -> 5\n"
     ]
    }
   ],
   "source": [
    "singleList.unshift(\"testing unshift\")\n",
    "singleList.show()\n",
    "print(singleList.length)"
   ]
  }
 ],
 "metadata": {
  "kernelspec": {
   "display_name": "Python 3",
   "language": "python",
   "name": "python3"
  },
  "language_info": {
   "codemirror_mode": {
    "name": "ipython",
    "version": 3
   },
   "file_extension": ".py",
   "mimetype": "text/x-python",
   "name": "python",
   "nbconvert_exporter": "python",
   "pygments_lexer": "ipython3",
   "version": "3.11.4"
  },
  "orig_nbformat": 4
 },
 "nbformat": 4,
 "nbformat_minor": 2
}
