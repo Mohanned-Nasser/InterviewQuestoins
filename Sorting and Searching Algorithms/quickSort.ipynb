{
 "cells": [
  {
   "cell_type": "code",
   "execution_count": 1,
   "metadata": {},
   "outputs": [],
   "source": [
    "\n",
    "def partition(array, low, high):\n",
    " \n",
    "    pivot = array[high]\n",
    " \n",
    "    i = low - 1\n",
    " \n",
    "    for j in range(low, high):\n",
    "        if array[j] <= pivot:\n",
    "\n",
    "            i = i + 1\n",
    " \n",
    "            (array[i], array[j]) = (array[j], array[i])\n",
    " \n",
    "    (array[i + 1], array[high]) = (array[high], array[i + 1])\n",
    " \n",
    "    return i + 1\n",
    " \n",
    "\n",
    " \n",
    " \n",
    "def quickSort(array, low, high):\n",
    "    if low < high:\n",
    "\n",
    "        pi = partition(array, low, high)\n",
    " \n",
    "        quickSort(array, low, pi - 1)\n",
    " \n",
    "        quickSort(array, pi + 1, high)\n",
    " \n",
    "   "
   ]
  }
 ],
 "metadata": {
  "kernelspec": {
   "display_name": "Python 3",
   "language": "python",
   "name": "python3"
  },
  "language_info": {
   "codemirror_mode": {
    "name": "ipython",
    "version": 3
   },
   "file_extension": ".py",
   "mimetype": "text/x-python",
   "name": "python",
   "nbconvert_exporter": "python",
   "pygments_lexer": "ipython3",
   "version": "3.11.4"
  },
  "orig_nbformat": 4
 },
 "nbformat": 4,
 "nbformat_minor": 2
}
